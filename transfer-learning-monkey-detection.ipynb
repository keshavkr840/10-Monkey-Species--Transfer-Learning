{
 "cells": [
  {
   "cell_type": "code",
   "execution_count": null,
   "metadata": {},
   "outputs": [],
   "source": [
    "# This Python 3 environment comes with many helpful analytics libraries installed\n",
    "# It is defined by the kaggle/python Docker image: https://github.com/kaggle/docker-python\n",
    "# For example, here's several helpful packages to load\n",
    "\n",
    "import numpy as np # linear algebra\n",
    "import pandas as pd # data processing, CSV file I/O (e.g. pd.read_csv)\n",
    "\n",
    "# Input data files are available in the read-only \"../input/\" directory\n",
    "# For example, running this (by clicking run or pressing Shift+Enter) will list all files under the input directory\n",
    "\n",
    "import os\n",
    "for dirname, _, filenames in os.walk('/kaggle/input'):\n",
    "    for filename in filenames:\n",
    "        print(os.path.join(dirname, filename))\n",
    "\n",
    "# You can write up to 20GB to the current directory (/kaggle/working/) that gets preserved as output when you create a version using \"Save & Run All\" \n",
    "# You can also write temporary files to /kaggle/temp/, but they won't be saved outside of the current session"
   ]
  },
  {
   "cell_type": "code",
   "execution_count": null,
   "metadata": {
    "_cell_guid": "b1076dfc-b9ad-4769-8c92-a6c4dae69d19",
    "_uuid": "8f2839f25d086af736a60e9eeb907d3b93b6e0e5"
   },
   "outputs": [],
   "source": [
    "import numpy as np \n",
    "import pandas as pd \n",
    "import tensorflow as tf\n",
    "from tensorflow.keras import backend as K\n",
    "from tensorflow.keras.preprocessing.image import ImageDataGenerator\n",
    "from tensorflow.keras.applications.mobilenet import MobileNet, preprocess_input, decode_predictions\n",
    "from keras.models import Sequential\n",
    "from keras.layers import MaxPooling2D\n",
    "from keras.layers import Flatten\n",
    "from keras.layers import Dense\n",
    "from keras.layers import Dropout,GlobalAveragePooling2D"
   ]
  },
  {
   "cell_type": "code",
   "execution_count": null,
   "metadata": {},
   "outputs": [],
   "source": [
    "from keras.applications import MobileNet\n",
    "img_rows , img_cols = 224,224\n",
    "MobileNet = MobileNet(weights = 'imagenet',\n",
    "                     include_top = False,\n",
    "                     input_shape =(img_rows,img_cols,3))\n",
    "\n",
    "for layer in MobileNet.layers:\n",
    "    layer.trainable = False\n",
    "\n",
    "MobileNet.output"
   ]
  },
  {
   "cell_type": "code",
   "execution_count": null,
   "metadata": {},
   "outputs": [],
   "source": [
    "from keras.layers import Dense, GlobalAveragePooling2D\n",
    "def addTopMobileNet(bottom_model, num_classes):\n",
    "    classifier = bottom_model.output\n",
    "    classifier = GlobalAveragePooling2D()(classifier)\n",
    "    classifier = Dense(units = 1024, activation = 'relu')(classifier)\n",
    "    classifier = Dense(units = 256, activation = 'relu')(classifier)\n",
    "    classifier = Dense(units = 128, activation = 'relu')(classifier)\n",
    "    classifier = Dense(units = 10, activation = 'softmax')(classifier)\n",
    "    return classifier"
   ]
  },
  {
   "cell_type": "code",
   "execution_count": null,
   "metadata": {},
   "outputs": [],
   "source": [
    "from keras.models import Model\n",
    "num_classes = 10 \n",
    "top = addTopMobileNet(MobileNet, num_classes)\n",
    "model = Model(inputs = MobileNet.input, outputs = top)\n",
    "print(model.summary())"
   ]
  },
  {
   "cell_type": "code",
   "execution_count": null,
   "metadata": {},
   "outputs": [],
   "source": [
    "#compile model using accuracy to measure model performance\n",
    "model.compile(optimizer= 'adam', loss=\"categorical_crossentropy\", metrics=['accuracy'])"
   ]
  },
  {
   "cell_type": "code",
   "execution_count": null,
   "metadata": {},
   "outputs": [],
   "source": [
    "train_datagen = ImageDataGenerator(\n",
    "        rescale = 1./255,\n",
    "        rotation_range=15,\n",
    "        zoom_range = 0.15,\n",
    "        width_shift_range=0.15,\n",
    "        height_shift_range=0.15\n",
    "        )\n",
    "test_datagen = ImageDataGenerator(rescale = 1./255)"
   ]
  },
  {
   "cell_type": "code",
   "execution_count": null,
   "metadata": {},
   "outputs": [],
   "source": [
    "batch_size = 16\n",
    "training_set = train_datagen.flow_from_directory('/kaggle/input/10-monkey-species/training/training',\n",
    "                                                 target_size=(224,224),\n",
    "                                                 batch_size = batch_size,\n",
    "                                                 class_mode='categorical')"
   ]
  },
  {
   "cell_type": "code",
   "execution_count": null,
   "metadata": {},
   "outputs": [],
   "source": [
    "test_set = test_datagen.flow_from_directory('/kaggle/input/10-monkey-species/validation/validation',\n",
    "                                                 target_size=(224,224),\n",
    "                                                  batch_size =8,\n",
    "                                                 class_mode='categorical')"
   ]
  },
  {
   "cell_type": "code",
   "execution_count": null,
   "metadata": {},
   "outputs": [],
   "source": [
    "from keras.callbacks import EarlyStopping \n",
    "from keras.callbacks import ModelCheckpoint\n",
    "es = EarlyStopping(monitor='val_loss', mode='min', patience = 10,restore_best_weights = True)\n",
    "filepath=\"weights.hdf5\"\n",
    "cp_callback =ModelCheckpoint(filepath,\n",
    "                            monitor='val_loss',\n",
    "                            save_best_only=True,\n",
    "                            verbose=1)"
   ]
  },
  {
   "cell_type": "code",
   "execution_count": null,
   "metadata": {},
   "outputs": [],
   "source": [
    "ls = [es,cp_callback]"
   ]
  },
  {
   "cell_type": "code",
   "execution_count": null,
   "metadata": {},
   "outputs": [],
   "source": [
    "\n",
    "history = model.fit_generator(training_set,\n",
    "                              epochs = 10,\n",
    "                              validation_data = test_set,\n",
    "                              steps_per_epoch=1098/batch_size,\n",
    "                              callbacks = ls)"
   ]
  },
  {
   "cell_type": "code",
   "execution_count": null,
   "metadata": {},
   "outputs": [],
   "source": [
    "import numpy as np\n",
    "from keras.preprocessing import image\n",
    "\n",
    "test_image = image.load_img('/kaggle/input/10-monkey-species/validation/validation/n9/n9026.jpg', target_size=(224, 224))\n",
    "test_image=image.img_to_array(test_image)\n",
    "test_image=np.expand_dims(test_image,axis=0)\n"
   ]
  },
  {
   "cell_type": "code",
   "execution_count": null,
   "metadata": {},
   "outputs": [],
   "source": [
    "import numpy as np\n",
    "from keras import optimizers\n",
    "from keras.models import load_model\n",
    "from keras.preprocessing.image import load_img, img_to_array\n",
    "\n",
    "from keras.preprocessing import *\n",
    "\n",
    "monkey_labels = {\n",
    "    0: \"Mantled Howler\",\n",
    "    1: \"Patas Monkey\",\n",
    "    2: \"Bald Uakari\",\n",
    "    3: \"Japanese Macaque\",\n",
    "    4: \"Pygmy Marmoset\",\n",
    "    5: \"White-headed Capuchin\",\n",
    "    6: \"Silvery Marmoset\",\n",
    "    7: \"Common Squirrel Monkey\",\n",
    "    8: \"Black-headed Night Monkey\",\n",
    "    9: \"Nilgiri Langur\",\n",
    "}\n",
    "\n",
    "# Prints a prediction\n",
    "def print_prediction(best_guess, prob):\n",
    "    print(\"Species: \" + monkey_labels[best_guess])\n",
    "    print(\"Probability: {0:.2%}\\n\".format(prob))\n",
    "\n",
    "\n",
    "# Loads an image and makes a prediction using the model\n",
    "def predict_image(filename):\n",
    "    # Load image, downsize, scale and convert to array\n",
    "    test_image = img_to_array(load_img(filename, target_size=(224,224))) / 255.0\n",
    "\n",
    "    # Expand array by 1 to match model\n",
    "    test_image = np.expand_dims(test_image, axis=0)\n",
    "\n",
    "    # Calculate category probabilities using model\n",
    "    predictions = model.predict(test_image)[0]\n",
    "\n",
    "    # Get label of highest probability prediction\n",
    "    best_guess = 0\n",
    "    highest_prob = 0.0\n",
    "    for i in range(len(predictions)):\n",
    "        if predictions[i] > highest_prob:\n",
    "            best_guess = i\n",
    "            highest_prob = predictions[i]\n",
    "\n",
    "    print_prediction(best_guess, highest_prob)\n"
   ]
  },
  {
   "cell_type": "code",
   "execution_count": null,
   "metadata": {},
   "outputs": [],
   "source": [
    "predict_image('/kaggle/input/10-monkey-species/validation/validation/n9/n9026.jpg')"
   ]
  },
  {
   "cell_type": "code",
   "execution_count": null,
   "metadata": {},
   "outputs": [],
   "source": []
  }
 ],
 "metadata": {
  "kernelspec": {
   "display_name": "Python 3",
   "language": "python",
   "name": "python3"
  },
  "language_info": {
   "codemirror_mode": {
    "name": "ipython",
    "version": 3
   },
   "file_extension": ".py",
   "mimetype": "text/x-python",
   "name": "python",
   "nbconvert_exporter": "python",
   "pygments_lexer": "ipython3",
   "version": "3.7.4"
  }
 },
 "nbformat": 4,
 "nbformat_minor": 4
}
